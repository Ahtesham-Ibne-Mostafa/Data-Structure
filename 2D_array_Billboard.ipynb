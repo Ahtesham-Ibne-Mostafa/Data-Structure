{
  "nbformat": 4,
  "nbformat_minor": 0,
  "metadata": {
    "colab": {
      "provenance": [],
      "authorship_tag": "ABX9TyMWfQXnUp4HoupLZO44usZl",
      "include_colab_link": true
    },
    "kernelspec": {
      "name": "python3",
      "display_name": "Python 3"
    },
    "language_info": {
      "name": "python"
    }
  },
  "cells": [
    {
      "cell_type": "markdown",
      "metadata": {
        "id": "view-in-github",
        "colab_type": "text"
      },
      "source": [
        "<a href=\"https://colab.research.google.com/github/Ahtesham-Ibne-Mostafa/Data-Structure/blob/main/2D_array_Billboard.ipynb\" target=\"_parent\"><img src=\"https://colab.research.google.com/assets/colab-badge.svg\" alt=\"Open In Colab\"/></a>"
      ]
    },
    {
      "cell_type": "code",
      "execution_count": 1,
      "metadata": {
        "colab": {
          "base_uri": "https://localhost:8080/"
        },
        "id": "cxkDa_rJuyrg",
        "outputId": "dbcd86bf-54e5-411f-c24e-01a46c88ad2c"
      },
      "outputs": [
        {
          "output_type": "stream",
          "name": "stdout",
          "text": [
            "[['', '', '', '', '', '', '', '', '', ''], ['', '', '', '', '', '', '', '', '', '']]\n"
          ]
        }
      ],
      "source": [
        "def display_billboard(top_row, bottom_row):\n",
        "  # 2D array with 2 rows and 10 columns\n",
        "  billboard = [['' for i in range(10)] for j in range(2)]\n",
        "  \n",
        "  if len(top_row) > 10 or len(bottom_row) > 10:\n",
        "    print(\"Invalid Input Size\")\n",
        "    return\n",
        "\n",
        "  # Store top row text in billboard\n",
        "  for i in range(len(top_row)):\n",
        "    billboard[0][i] = top_row[i]\n",
        "\n",
        "  # Store bottom row text in billboard\n",
        "  for i in range(len(bottom_row)):\n",
        "    billboard[1][i] = bottom_row[i]\n",
        "\n",
        "  print(\"Starting indices: [0][0] [1][9]\")\n",
        "  print(\"Starting characters: \", billboard[0][0], billboard[1][9])\n",
        "\n",
        "  user_input = \"\"\n",
        "  while user_input.lower() != \"q\":\n",
        "    # Shift top row text one position to the left\n",
        "    top_start = billboard[0][0]\n",
        "    for i in range(9):\n",
        "      billboard[0][i] = billboard[0][i + 1]\n",
        "    billboard[0][9] = top_start\n",
        "    \n",
        "    # Shift bottom row text one position to the right\n",
        "    bottom_start = billboard[1][9]\n",
        "    for i in range(9, 0, -1):\n",
        "      billboard[1][i] = billboard[1][i - 1]\n",
        "    billboard[1][0] = bottom_start\n",
        "\n",
        "    # Print the billboard\n",
        "    for i in range(2):\n",
        "      for j in range(10):\n",
        "        print(billboard[i][j], end=' ')\n",
        "      print()\n",
        "\n",
        "    user_input = input(\"Press any key to continue, press Q to exit: \")\n",
        "\n",
        "  print(\"Exited.\")\n",
        "  print(\"Starting indices: [0][0] [1][9]\")\n",
        "  print(\"Starting characters: \", billboard[0][0], billboard[1][9])\n",
        "\n",
        "top_row = input(\"Enter top row text: \")\n",
        "bottom_row = input(\"Enter bottom row text: \")\n",
        "display_billboard(top_row, bottom_row)"
      ]
    }
  ]
}