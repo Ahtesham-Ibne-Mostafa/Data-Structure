{
  "nbformat": 4,
  "nbformat_minor": 0,
  "metadata": {
    "colab": {
      "provenance": [],
      "include_colab_link": true
    },
    "kernelspec": {
      "name": "python3",
      "display_name": "Python 3"
    },
    "language_info": {
      "name": "python"
    }
  },
  "cells": [
    {
      "cell_type": "markdown",
      "metadata": {
        "id": "view-in-github",
        "colab_type": "text"
      },
      "source": [
        "<a href=\"https://colab.research.google.com/github/Ahtesham-Ibne-Mostafa/Data-Structure/blob/main/CSE220_Lab6.ipynb\" target=\"_parent\"><img src=\"https://colab.research.google.com/assets/colab-badge.svg\" alt=\"Open In Colab\"/></a>"
      ]
    },
    {
      "cell_type": "code",
      "execution_count": null,
      "metadata": {
        "colab": {
          "base_uri": "https://localhost:8080/"
        },
        "id": "jDXIaT6QIyHG",
        "outputId": "17b489e3-6dbd-4b6a-f452-094e679e25e6"
      },
      "outputs": [
        {
          "output_type": "stream",
          "name": "stdout",
          "text": [
            "6\n"
          ]
        }
      ],
      "source": [
        "#1a\n",
        "def factorial(x):\n",
        "  if x==1:\n",
        "    return x\n",
        "  else:\n",
        "    return(x*factorial(x-1))\n",
        "print(factorial(3))"
      ]
    },
    {
      "cell_type": "code",
      "source": [
        "#1b\n",
        "def fibonacci(x):\n",
        "  if x<=1:\n",
        "    return x\n",
        "  else:\n",
        "    return fibonacci(x-1)+fibonacci(x-2)\n",
        "print(fibonacci(8))"
      ],
      "metadata": {
        "colab": {
          "base_uri": "https://localhost:8080/"
        },
        "id": "9a1jlm3TKoPy",
        "outputId": "593b8483-485b-4664-dfbd-8a6da5f95f26"
      },
      "execution_count": null,
      "outputs": [
        {
          "output_type": "stream",
          "name": "stdout",
          "text": [
            "21\n"
          ]
        }
      ]
    },
    {
      "cell_type": "code",
      "source": [
        "#1c\n",
        "def arrayPrint(arr):\n",
        "  n=len(arr)\n",
        "  if n==0:\n",
        "    return\n",
        "  else:\n",
        "    print(arr[0])\n",
        "    arrayPrint(arr[1:])\n",
        "arrayPrint([1,2,3,4,5,6,8,7])"
      ],
      "metadata": {
        "id": "PAuuS5j9L9nR"
      },
      "execution_count": null,
      "outputs": []
    },
    {
      "cell_type": "code",
      "source": [
        "#1d\n",
        "def powerN(x,n):\n",
        "  if n==1:\n",
        "    return x\n",
        "  else:\n",
        "    return x*powerN(x,(n-1))\n",
        "\n",
        "print(powerN(3,3))"
      ],
      "metadata": {
        "colab": {
          "base_uri": "https://localhost:8080/"
        },
        "id": "u9YrH8UGOjPE",
        "outputId": "61453e16-f68d-43ce-9f6a-76e06afac5c2"
      },
      "execution_count": null,
      "outputs": [
        {
          "output_type": "stream",
          "name": "stdout",
          "text": [
            "27\n"
          ]
        }
      ]
    },
    {
      "cell_type": "code",
      "source": [
        "#2b\n",
        "class Node:\n",
        "  def __init__(self, e, n):\n",
        "    self.element = e\n",
        "    self.next = n\n",
        "\n",
        "class LinkedList:\n",
        "  def __init__(self, a):       \n",
        "    self.head = None\n",
        "    tail = self.head\n",
        "    if type(a) != Node:\n",
        "      for i in range(0,len(a)):\n",
        "        if i==0:\n",
        "          self.head=Node(a[i],None)\n",
        "          tail=self.head\n",
        "        else: \n",
        "          temp = Node(a[i],None)\n",
        "          tail.next = temp\n",
        "          tail = tail.next\n",
        "    else:\n",
        "      self.head=a\n",
        "\n",
        "def printer(arr):\n",
        "  if arr==None:\n",
        "    return 0\n",
        "  else:\n",
        "    return arr.element+printer(arr.next)\n",
        "\n",
        "a=[1,2,3,4]\n",
        "Li=LinkedList(a)\n",
        "print(printer(Li.head))"
      ],
      "metadata": {
        "colab": {
          "base_uri": "https://localhost:8080/"
        },
        "id": "kmo_F6yYPRU3",
        "outputId": "9a5c878f-a7b8-4752-ce3f-d502c999cafe"
      },
      "execution_count": null,
      "outputs": [
        {
          "output_type": "stream",
          "name": "stdout",
          "text": [
            "10\n"
          ]
        }
      ]
    },
    {
      "cell_type": "code",
      "source": [
        "#2c\n",
        "class Node:\n",
        "  def __init__(self, e, n):\n",
        "    self.element = e\n",
        "    self.next = n\n",
        "\n",
        "class LinkedList:\n",
        "  def __init__(self, a):       \n",
        "    self.head = None\n",
        "    tail = self.head\n",
        "    if type(a) != Node:\n",
        "      for i in range(0,len(a)):\n",
        "        if i==0:\n",
        "          self.head=Node(a[i],None)\n",
        "          tail=self.head\n",
        "        else: \n",
        "          temp = Node(a[i],None)\n",
        "          tail.next = temp\n",
        "          tail = tail.next\n",
        "    else:\n",
        "      self.head=a\n",
        "\n",
        "def printer(arr):\n",
        "  if arr==None:\n",
        "    return None\n",
        "  else:\n",
        "    printer(arr.next)\n",
        "    print(arr.element)\n",
        "\n",
        "a=[10,20,30,40]\n",
        "Li=LinkedList(a)\n",
        "printer(Li.head)"
      ],
      "metadata": {
        "colab": {
          "base_uri": "https://localhost:8080/"
        },
        "id": "vWmhCj4ASO57",
        "outputId": "70db486b-d9e0-4b1c-c289-d93e36a70512"
      },
      "execution_count": null,
      "outputs": [
        {
          "output_type": "stream",
          "name": "stdout",
          "text": [
            "40\n",
            "30\n",
            "20\n",
            "10\n"
          ]
        }
      ]
    },
    {
      "cell_type": "code",
      "source": [
        "#3\n",
        "def hocBuilder(floor):\n",
        "  if floor==0:\n",
        "    return 8\n",
        "  else:\n",
        "    return 5+hocBuilder(floor-1)\n",
        "\n",
        "print(hocBuilder(2))"
      ],
      "metadata": {
        "colab": {
          "base_uri": "https://localhost:8080/"
        },
        "id": "5zKOK1Z9TaTf",
        "outputId": "548bd91c-4ac6-4875-afb5-14c49e62aafc"
      },
      "execution_count": null,
      "outputs": [
        {
          "output_type": "stream",
          "name": "stdout",
          "text": [
            "18\n"
          ]
        }
      ]
    },
    {
      "cell_type": "code",
      "source": [
        "#4a\n",
        "def stairs(n):\n",
        "  if n==0:\n",
        "    return ''\n",
        "  else:\n",
        "    x=(stairs(n-1))+str(n)\n",
        "    print(x)\n",
        "    return x\n",
        "x=stairs(5)"
      ],
      "metadata": {
        "colab": {
          "base_uri": "https://localhost:8080/"
        },
        "id": "bgERVWKGWSmV",
        "outputId": "2f4d05e0-b216-4aa6-d661-6e89defe9ddc"
      },
      "execution_count": null,
      "outputs": [
        {
          "output_type": "stream",
          "name": "stdout",
          "text": [
            "1\n",
            "12\n",
            "123\n",
            "1234\n",
            "12345\n"
          ]
        }
      ]
    }
  ]
}