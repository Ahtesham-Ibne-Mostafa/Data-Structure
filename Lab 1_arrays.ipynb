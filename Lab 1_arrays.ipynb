{
 "cells": [
  {
   "cell_type": "code",
   "execution_count": 63,
   "metadata": {},
   "outputs": [
    {
     "name": "stdout",
     "output_type": "stream",
     "text": [
      "[30, 40, 50, 60, 0, 0]\n"
     ]
    }
   ],
   "source": [
    "# Task 1\n",
    "\n",
    "def shiftLeft( source, k):\n",
    "    for j in range(0,k):\n",
    "        for i in range(1,len(source)):\n",
    "            source[i-1]=source[i]\n",
    "            source[i]=0\n",
    "    return source\n",
    "    \n",
    "source=[10,20,30,40,50,60]\n",
    "k=int(input('Enter the number of cells to be shifted :'))\n",
    "shiftLeft(source,k)\n",
    "print(source)"
   ]
  },
  {
   "cell_type": "code",
   "execution_count": 64,
   "metadata": {},
   "outputs": [
    {
     "name": "stdout",
     "output_type": "stream",
     "text": [
      "[30, 40, 50, 60, 10, 20]\n"
     ]
    }
   ],
   "source": [
    "# Task 2\n",
    "\n",
    "def rotateLeft( source, k):\n",
    "    for j in range(0,k):\n",
    "        a=source[0]\n",
    "        for i in range(1,len(source)):\n",
    "            source[i-1]=source[i]\n",
    "        source[len(source)-1]=a\n",
    "    return source\n",
    "    \n",
    "source=[10,20,30,40,50,60]\n",
    "k=int(input('Enter the number of cells to be shifted :'))\n",
    "rotateLeft(source,k)\n",
    "print(source)"
   ]
  },
  {
   "cell_type": "code",
   "execution_count": 65,
   "metadata": {},
   "outputs": [
    {
     "name": "stdout",
     "output_type": "stream",
     "text": [
      "[0, 0, 10, 20, 30, 40]\n"
     ]
    }
   ],
   "source": [
    "# Task 3\n",
    "\n",
    "def shiftRight( source, k):\n",
    "    for j in range(0,k):\n",
    "        i=len(source)-1\n",
    "        while i>0:\n",
    "            source[i]=source[i-1]\n",
    "            source[i-1]=0\n",
    "            i-=1\n",
    "    return source\n",
    "    \n",
    "source=[10,20,30,40,50,60]\n",
    "k=int(input('Enter the number of cells to be shifted :'))\n",
    "shiftRight(source,k)\n",
    "print(source)"
   ]
  },
  {
   "cell_type": "code",
   "execution_count": 66,
   "metadata": {},
   "outputs": [
    {
     "name": "stdout",
     "output_type": "stream",
     "text": [
      "[50, 60, 10, 20, 30, 40]\n"
     ]
    }
   ],
   "source": [
    "# Task 4\n",
    "\n",
    "def rotateRight( source, k):\n",
    "    for j in range(0,k):\n",
    "        a=source[len(source)-1]\n",
    "        i=len(source)-1\n",
    "        while i>0:\n",
    "            source[i]=source[i-1]\n",
    "            i-=1\n",
    "        source[0]=a\n",
    "    return source\n",
    "    \n",
    "source=[10,20,30,40,50,60]\n",
    "k=int(input('Enter the number of cells to be shifted :'))\n",
    "rotateRight(source,k)\n",
    "print(source)"
   ]
  },
  {
   "cell_type": "code",
   "execution_count": 62,
   "metadata": {},
   "outputs": [
    {
     "name": "stdout",
     "output_type": "stream",
     "text": [
      "[10, 20, 30, 50, 0, 0, 0]\n"
     ]
    }
   ],
   "source": [
    "# Task 5\n",
    "\n",
    "def remove( source, size, idx):\n",
    "    for i in range(idx+1,len(source)):\n",
    "        source[i-1]=source[i]\n",
    "        source[i]=0\n",
    "    return source\n",
    "    \n",
    "source=[10,20,30,40,50,0,0]\n",
    "size=int(input('Enter the size of the array :'))\n",
    "idx=int(input('Enter the number of cells to be shifted :'))\n",
    "remove(source,size,idx)\n",
    "print(source)\n"
   ]
  },
  {
   "cell_type": "code",
   "execution_count": 94,
   "metadata": {},
   "outputs": [
    {
     "name": "stdout",
     "output_type": "stream",
     "text": [
      "[10, 30, 50, 0, 0, 0, 0, 0, 0]\n"
     ]
    }
   ],
   "source": [
    "# Task 6\n",
    "\n",
    "def removeAll( source, size, element):\n",
    "    j=len(source)-1\n",
    "    while j>-1:\n",
    "        if source[j]==element and j!= len(source):\n",
    "            for i in range(j+1,len(source)):\n",
    "                source[i-1]=source[i]\n",
    "                source[i]=0\n",
    "        j-=1\n",
    "                \n",
    "    return source\n",
    "    \n",
    "source=[10,2,30,2,50,2,2,0,0]\n",
    "size=int(input('Enter the size of the array :'))\n",
    "element=int(input('Enter the element to be removed :'))\n",
    "removeAll(source,size,element)\n",
    "print(source)"
   ]
  },
  {
   "cell_type": "code",
   "execution_count": null,
   "metadata": {},
   "outputs": [],
   "source": []
  }
 ],
 "metadata": {
  "kernelspec": {
   "display_name": "Python 3.10.7 64-bit (microsoft store)",
   "language": "python",
   "name": "python3"
  },
  "language_info": {
   "codemirror_mode": {
    "name": "ipython",
    "version": 3
   },
   "file_extension": ".py",
   "mimetype": "text/x-python",
   "name": "python",
   "nbconvert_exporter": "python",
   "pygments_lexer": "ipython3",
   "version": "3.10.7"
  },
  "orig_nbformat": 4,
  "vscode": {
   "interpreter": {
    "hash": "efb25ee08ad69dead2ab5496ee0c8d86b1adbbae397278509c1aab5e90353b65"
   }
  }
 },
 "nbformat": 4,
 "nbformat_minor": 2
}
