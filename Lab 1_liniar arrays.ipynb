{
 "cells": [
  {
   "cell_type": "code",
   "execution_count": null,
   "metadata": {},
   "outputs": [
    {
     "name": "stdout",
     "output_type": "stream",
     "text": [
      "[30, 40, 50, 60, 0, 0]\n"
     ]
    }
   ],
   "source": [
    "# Task 1\n",
    "\n",
    "def shiftLeft( source, k):\n",
    "    for j in range(0,k):\n",
    "        for i in range(1,len(source)):\n",
    "            source[i-1]=source[i]\n",
    "            source[i]=0\n",
    "    return source\n",
    "    \n",
    "source=[10,20,30,40,50,60]\n",
    "k=int(input('Enter the number of cells to be shifted :'))\n",
    "shiftLeft(source,k)\n",
    "print(source)"
   ]
  },
  {
   "cell_type": "code",
   "execution_count": 1,
   "metadata": {},
   "outputs": [
    {
     "ename": "KeyboardInterrupt",
     "evalue": "Interrupted by user",
     "output_type": "error",
     "traceback": [
      "\u001b[1;31m---------------------------------------------------------------------------\u001b[0m",
      "\u001b[1;31mKeyboardInterrupt\u001b[0m                         Traceback (most recent call last)",
      "Cell \u001b[1;32mIn [1], line 12\u001b[0m\n\u001b[0;32m      9\u001b[0m     \u001b[39mreturn\u001b[39;00m source\n\u001b[0;32m     11\u001b[0m source\u001b[39m=\u001b[39m[\u001b[39m10\u001b[39m,\u001b[39m20\u001b[39m,\u001b[39m30\u001b[39m,\u001b[39m40\u001b[39m,\u001b[39m50\u001b[39m,\u001b[39m60\u001b[39m]\n\u001b[1;32m---> 12\u001b[0m k\u001b[39m=\u001b[39m\u001b[39mint\u001b[39m(\u001b[39minput\u001b[39;49m(\u001b[39m'\u001b[39;49m\u001b[39mEnter the number of cells to be shifted :\u001b[39;49m\u001b[39m'\u001b[39;49m))\n\u001b[0;32m     13\u001b[0m rotateLeft(source,k)\n\u001b[0;32m     14\u001b[0m \u001b[39mprint\u001b[39m(source)\n",
      "File \u001b[1;32m~\\AppData\\Roaming\\Python\\Python310\\site-packages\\ipykernel\\kernelbase.py:1177\u001b[0m, in \u001b[0;36mKernel.raw_input\u001b[1;34m(self, prompt)\u001b[0m\n\u001b[0;32m   1173\u001b[0m \u001b[39mif\u001b[39;00m \u001b[39mnot\u001b[39;00m \u001b[39mself\u001b[39m\u001b[39m.\u001b[39m_allow_stdin:\n\u001b[0;32m   1174\u001b[0m     \u001b[39mraise\u001b[39;00m StdinNotImplementedError(\n\u001b[0;32m   1175\u001b[0m         \u001b[39m\"\u001b[39m\u001b[39mraw_input was called, but this frontend does not support input requests.\u001b[39m\u001b[39m\"\u001b[39m\n\u001b[0;32m   1176\u001b[0m     )\n\u001b[1;32m-> 1177\u001b[0m \u001b[39mreturn\u001b[39;00m \u001b[39mself\u001b[39;49m\u001b[39m.\u001b[39;49m_input_request(\n\u001b[0;32m   1178\u001b[0m     \u001b[39mstr\u001b[39;49m(prompt),\n\u001b[0;32m   1179\u001b[0m     \u001b[39mself\u001b[39;49m\u001b[39m.\u001b[39;49m_parent_ident[\u001b[39m\"\u001b[39;49m\u001b[39mshell\u001b[39;49m\u001b[39m\"\u001b[39;49m],\n\u001b[0;32m   1180\u001b[0m     \u001b[39mself\u001b[39;49m\u001b[39m.\u001b[39;49mget_parent(\u001b[39m\"\u001b[39;49m\u001b[39mshell\u001b[39;49m\u001b[39m\"\u001b[39;49m),\n\u001b[0;32m   1181\u001b[0m     password\u001b[39m=\u001b[39;49m\u001b[39mFalse\u001b[39;49;00m,\n\u001b[0;32m   1182\u001b[0m )\n",
      "File \u001b[1;32m~\\AppData\\Roaming\\Python\\Python310\\site-packages\\ipykernel\\kernelbase.py:1219\u001b[0m, in \u001b[0;36mKernel._input_request\u001b[1;34m(self, prompt, ident, parent, password)\u001b[0m\n\u001b[0;32m   1216\u001b[0m             \u001b[39mbreak\u001b[39;00m\n\u001b[0;32m   1217\u001b[0m \u001b[39mexcept\u001b[39;00m \u001b[39mKeyboardInterrupt\u001b[39;00m:\n\u001b[0;32m   1218\u001b[0m     \u001b[39m# re-raise KeyboardInterrupt, to truncate traceback\u001b[39;00m\n\u001b[1;32m-> 1219\u001b[0m     \u001b[39mraise\u001b[39;00m \u001b[39mKeyboardInterrupt\u001b[39;00m(\u001b[39m\"\u001b[39m\u001b[39mInterrupted by user\u001b[39m\u001b[39m\"\u001b[39m) \u001b[39mfrom\u001b[39;00m \u001b[39mNone\u001b[39m\n\u001b[0;32m   1220\u001b[0m \u001b[39mexcept\u001b[39;00m \u001b[39mException\u001b[39;00m:\n\u001b[0;32m   1221\u001b[0m     \u001b[39mself\u001b[39m\u001b[39m.\u001b[39mlog\u001b[39m.\u001b[39mwarning(\u001b[39m\"\u001b[39m\u001b[39mInvalid Message:\u001b[39m\u001b[39m\"\u001b[39m, exc_info\u001b[39m=\u001b[39m\u001b[39mTrue\u001b[39;00m)\n",
      "\u001b[1;31mKeyboardInterrupt\u001b[0m: Interrupted by user"
     ]
    }
   ],
   "source": [
    "# Task 2\n",
    "\n",
    "def rotateLeft( source, k):\n",
    "    for j in range(0,k):\n",
    "        a=source[0]\n",
    "        for i in range(1,len(source)):\n",
    "            source[i-1]=source[i]\n",
    "        source[len(source)-1]=a\n",
    "    return source\n",
    "    \n",
    "source=[10,20,30,40,50,60]\n",
    "k=int(input('Enter the number of cells to be shifted :'))\n",
    "rotateLeft(source,k)\n",
    "print(source)"
   ]
  },
  {
   "cell_type": "code",
   "execution_count": 2,
   "metadata": {},
   "outputs": [
    {
     "ename": "ValueError",
     "evalue": "invalid literal for int() with base 10: '7474564465645\\\\'",
     "output_type": "error",
     "traceback": [
      "\u001b[1;31m---------------------------------------------------------------------------\u001b[0m",
      "\u001b[1;31mValueError\u001b[0m                                Traceback (most recent call last)",
      "Cell \u001b[1;32mIn [2], line 13\u001b[0m\n\u001b[0;32m     10\u001b[0m     \u001b[39mreturn\u001b[39;00m source\n\u001b[0;32m     12\u001b[0m source\u001b[39m=\u001b[39m[\u001b[39m10\u001b[39m,\u001b[39m20\u001b[39m,\u001b[39m30\u001b[39m,\u001b[39m40\u001b[39m,\u001b[39m50\u001b[39m,\u001b[39m60\u001b[39m]\n\u001b[1;32m---> 13\u001b[0m k\u001b[39m=\u001b[39m\u001b[39mint\u001b[39;49m(\u001b[39minput\u001b[39;49m(\u001b[39m'\u001b[39;49m\u001b[39mEnter the number of cells to be shifted :\u001b[39;49m\u001b[39m'\u001b[39;49m))\n\u001b[0;32m     14\u001b[0m shiftRight(source,k)\n\u001b[0;32m     15\u001b[0m \u001b[39mprint\u001b[39m(source)\n",
      "\u001b[1;31mValueError\u001b[0m: invalid literal for int() with base 10: '7474564465645\\\\'"
     ]
    }
   ],
   "source": [
    "# Task 3\n",
    "\n",
    "def shiftRight( source, k):\n",
    "    for j in range(0,k):\n",
    "        i=len(source)-1\n",
    "        while i>0:\n",
    "            source[i]=source[i-1]\n",
    "            source[i-1]=0\n",
    "            i-=1\n",
    "    return source\n",
    "    \n",
    "source=[10,20,30,40,50,60]\n",
    "k=int(input('Enter the number of cells to be shifted :'))\n",
    "shiftRight(source,k)\n",
    "print(source)"
   ]
  },
  {
   "cell_type": "code",
   "execution_count": 66,
   "metadata": {},
   "outputs": [
    {
     "name": "stdout",
     "output_type": "stream",
     "text": [
      "[50, 60, 10, 20, 30, 40]\n"
     ]
    }
   ],
   "source": [
    "# Task 4\n",
    "\n",
    "def rotateRight( source, k):\n",
    "    for j in range(0,k):\n",
    "        a=source[len(source)-1]\n",
    "        i=len(source)-1\n",
    "        while i>0:\n",
    "            source[i]=source[i-1]\n",
    "            i-=1\n",
    "        source[0]=a\n",
    "    return source\n",
    "    \n",
    "source=[10,20,30,40,50,60]\n",
    "k=int(input('Enter the number of cells to be shifted :'))\n",
    "rotateRight(source,k)\n",
    "print(source)"
   ]
  },
  {
   "cell_type": "code",
   "execution_count": 62,
   "metadata": {},
   "outputs": [
    {
     "name": "stdout",
     "output_type": "stream",
     "text": [
      "[10, 20, 30, 50, 0, 0, 0]\n"
     ]
    }
   ],
   "source": [
    "# Task 5\n",
    "\n",
    "def remove( source, size, idx):\n",
    "    for i in range(idx+1,len(source)):\n",
    "        source[i-1]=source[i]\n",
    "        source[i]=0\n",
    "    return source\n",
    "    \n",
    "source=[10,20,30,40,50,0,0]\n",
    "size=int(input('Enter the size of the array :'))\n",
    "idx=int(input('Enter the number of cells to be shifted :'))\n",
    "remove(source,size,idx)\n",
    "print(source)\n"
   ]
  },
  {
   "cell_type": "code",
   "execution_count": 94,
   "metadata": {},
   "outputs": [
    {
     "name": "stdout",
     "output_type": "stream",
     "text": [
      "[10, 30, 50, 0, 0, 0, 0, 0, 0]\n"
     ]
    }
   ],
   "source": [
    "# Task 6\n",
    "\n",
    "def removeAll( source, size, element):\n",
    "    j=len(source)-1\n",
    "    while j>-1:\n",
    "        if source[j]==element and j!= len(source):\n",
    "            for i in range(j+1,len(source)):\n",
    "                source[i-1]=source[i]\n",
    "                source[i]=0\n",
    "        j-=1\n",
    "                \n",
    "    return source\n",
    "    \n",
    "source=[10,2,30,2,50,2,2,0,0]\n",
    "size=int(input('Enter the size of the array :'))\n",
    "element=int(input('Enter the element to be removed :'))\n",
    "removeAll(source,size,element)\n",
    "print(source)"
   ]
  },
  {
   "cell_type": "code",
   "execution_count": 18,
   "metadata": {},
   "outputs": [
    {
     "name": "stdout",
     "output_type": "stream",
     "text": [
      "True\n"
     ]
    }
   ],
   "source": [
    "# Task 7\n",
    "\n",
    "c=False\n",
    "x=[1, 1, 1, 2, 1] \n",
    "a=0\n",
    "for i in range(0,len(x)-1):\n",
    "    b=0\n",
    "    a+=x[i]\n",
    "    for j in range(i+1,len(x)):\n",
    "        b+=x[j]\n",
    "    if a==b:\n",
    "        c=True\n",
    "print(c)"
   ]
  },
  {
   "cell_type": "code",
   "execution_count": 3,
   "metadata": {},
   "outputs": [
    {
     "data": {
      "text/plain": [
       "True"
      ]
     },
     "execution_count": 3,
     "metadata": {},
     "output_type": "execute_result"
    }
   ],
   "source": [
    "# masud task 7\n",
    "def splitting(source):\n",
    "  count1=0\n",
    "  count2=0\n",
    "  for i in range(0,len(source)-1):\n",
    "    count1+=source[i]\n",
    "  for j in range(1,len(source)):\n",
    "    count2+=source[j]\n",
    "  if(count1==count2):\n",
    "    return True\n",
    "  else:\n",
    "    return False\n",
    "source=[10, 1, 3, 1, 2, 10] \n",
    "splitting(source)"
   ]
  },
  {
   "cell_type": "code",
   "execution_count": 69,
   "metadata": {},
   "outputs": [
    {
     "name": "stdout",
     "output_type": "stream",
     "text": [
      "[0, 0, 1, 0, 2, 1, 3, 2, 1]\n"
     ]
    }
   ],
   "source": [
    "# Task 8\n",
    "\n",
    "\n",
    "def array(n):\n",
    "\n",
    "    x=[0]*n*n\n",
    "    i=n*n-1\n",
    "    incriment=0\n",
    "    while i>-1:\n",
    "        element=1\n",
    "        indx1=i\n",
    "        indx2=i-n+incriment\n",
    "        while indx1>indx2:\n",
    "            x[indx1]=element\n",
    "            element+=1\n",
    "            indx1-=1\n",
    "        incriment+=1\n",
    "        i-=n\n",
    "    return x\n",
    "\n",
    "n=int(input('Enter the length n :'))\n",
    "f=array(n)  \n",
    "  \n",
    "print(f) "
   ]
  },
  {
   "cell_type": "code",
   "execution_count": 90,
   "metadata": {},
   "outputs": [
    {
     "name": "stdout",
     "output_type": "stream",
     "text": [
      "4\n"
     ]
    }
   ],
   "source": [
    "# Task 9\n",
    "\n",
    "\n",
    "def max(x):\n",
    "    count=1\n",
    "    max=0\n",
    "    for i in range(1,len(x)):\n",
    "        if x[i]==x[i-1] :\n",
    "            count+=1\n",
    "        else:\n",
    "            count=1\n",
    "        if count>max:\n",
    "            max=count\n",
    "    return max\n",
    "x=[1,1,2, 2, 1, 1,1,1]\n",
    "f=max(x)\n",
    "print(f)\n",
    "    "
   ]
  },
  {
   "cell_type": "code",
   "execution_count": 1,
   "metadata": {},
   "outputs": [
    {
     "name": "stdout",
     "output_type": "stream",
     "text": [
      "False\n"
     ]
    }
   ],
   "source": [
    "# Task 10\n",
    "\n",
    "def repetition(x):\n",
    "    y=[0]*(len(x)//2)\n",
    "    z=False\n",
    "    k=0\n",
    "    for i in range(0,len(x)):\n",
    "        count=1\n",
    "        for j in range(i+1,len(x)):\n",
    "            if x[i]==x[j] and x[j]!=0:\n",
    "                count+=1\n",
    "                x[j]=0\n",
    "        if count>1:\n",
    "            y[k]=count\n",
    "            k+=1\n",
    "    for i in range(0,len(y)):\n",
    "        if y[i]==0:\n",
    "            break\n",
    "        for j in range(i+1,len(y)):\n",
    "            if y[i]==y[j] :\n",
    "                z=True\n",
    "\n",
    "    return z\n",
    "x=[3,4,6,3,4,7,4,6,8,6,6]\n",
    "f=repetition(x)\n",
    "print(f)"
   ]
  }
 ],
 "metadata": {
  "kernelspec": {
   "display_name": "Python 3.10.0 64-bit",
   "language": "python",
   "name": "python3"
  },
  "language_info": {
   "codemirror_mode": {
    "name": "ipython",
    "version": 3
   },
   "file_extension": ".py",
   "mimetype": "text/x-python",
   "name": "python",
   "nbconvert_exporter": "python",
   "pygments_lexer": "ipython3",
   "version": "3.10.0"
  },
  "orig_nbformat": 4,
  "vscode": {
   "interpreter": {
    "hash": "7b5e05e164c6b439dd3c4501df70cf6bc5c69ac9ed6addc03a284dbac8ac88c5"
   }
  }
 },
 "nbformat": 4,
 "nbformat_minor": 2
}
