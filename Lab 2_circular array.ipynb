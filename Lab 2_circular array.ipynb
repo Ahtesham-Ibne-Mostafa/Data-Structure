{
 "cells": [
  {
   "cell_type": "code",
   "execution_count": null,
   "metadata": {},
   "outputs": [],
   "source": [
    "class CircularArray:\n",
    "  def __init__(self, lin, st, sz):\n",
    "    # Initializing Variables\n",
    "    self.start = st\n",
    "    self.size = sz\n",
    "    self.lin=[10, 20, 30, 40, None]\n",
    "    self.cir=[None]*len(self.lin)\n",
    "    x=self.start\n",
    "    for i in range(self.size):\n",
    "      self.cir[x]=self.lin[i]\n",
    "      x+=1\n",
    "      if x==len(self.lin):\n",
    "        x=0\n",
    "        \n",
    "  def printFullLinear(self):\n",
    "    for i in range(len(self.cir)):\n",
    "      if i !=len(self.cir)-1:\n",
    "        print(self.cir[i],end=', ')\n",
    "      else:\n",
    "        print(self.cir[i])\n",
    "\n",
    "  def printForward(self):\n",
    "    x=self.start\n",
    "    for i in range(self.size):\n",
    "      if i !=self.size-1:\n",
    "        print(self.cir[x],end=', ')\n",
    "      else:\n",
    "        print(self.cir[x])\n",
    "      x+=1\n",
    "      if x==len(self.cir):\n",
    "        x=0\n",
    "\n",
    "  def printBackward(self):\n",
    "    x=(self.start+self.size-1)%len(self.cir)\n",
    "    for i in range(self.size):\n",
    "      if i !=self.size-1:\n",
    "        print(self.cir[x],end=', ')\n",
    "      else:\n",
    "        print(self.cir[x])\n",
    "      x-=1\n",
    "      if x==-1:\n",
    "        x=len(self.cir)-1\n",
    "  def linearize(self):\n",
    "    self.lin1=[]*self.size\n",
    "    x=self.start\n",
    "    for i in range(self.size):\n",
    "      self.lin[i]=self.cir[x]\n",
    "      x+=1\n",
    "      if x==len(self.lin):\n",
    "        x=0\n",
    "      if i !=len(self.cir)-1:\n",
    "        print(self.cir[i],end=', ')\n",
    "      else:\n",
    "        print(self.cir[i])\n",
    "\n",
    "lin_arr1 = [10, 20, 30, 40, None]\n",
    "print(\"==========Test 1==========\")\n",
    "c1 = CircularArray(lin_arr1, 2, 4)\n",
    "c1.printFullLinear()\n",
    "c1.printForward()\n",
    "c1.printBackward()\n",
    "print(\"==========Test 2==========\")\n",
    "c1.linearize()\n",
    "c1.printFullLinear()"
   ]
  }
 ],
 "metadata": {
  "kernelspec": {
   "display_name": "Python 3.10.8 64-bit (microsoft store)",
   "language": "python",
   "name": "python3"
  },
  "language_info": {
   "name": "python",
   "version": "3.10.8"
  },
  "orig_nbformat": 4,
  "vscode": {
   "interpreter": {
    "hash": "efb25ee08ad69dead2ab5496ee0c8d86b1adbbae397278509c1aab5e90353b65"
   }
  }
 },
 "nbformat": 4,
 "nbformat_minor": 2
}
