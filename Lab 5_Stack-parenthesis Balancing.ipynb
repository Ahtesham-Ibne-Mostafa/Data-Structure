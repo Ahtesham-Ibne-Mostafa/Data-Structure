{
 "cells": [
  {
   "cell_type": "code",
   "execution_count": 1,
   "metadata": {},
   "outputs": [],
   "source": [
    "# Array\n",
    "\n",
    "x=\"1+2*[3*3+{4–5(6(7/8/9)+10)–11+(12*8)]+14\"\n",
    "\n",
    "class Stack:\n",
    "    def __init__(self)\n",
    "        self.stack=[]\n",
    "        self.pointer=-1\n",
    "    \n",
    "    def push(self,element):\n",
    "        self.stack[pointer]=element\n",
    "        self.pointer+=1\n",
    "        \n",
    "    def peek(self):\n",
    "        return self.stack[self.pointer]\n",
    "    \n",
    "    def pop(self):\n",
    "        value=self.stack[self.pointer]\n",
    "        self.stack[self.pointer]=0\n",
    "        self.pointer-=1\n",
    "        return value\n",
    "    \n",
    "    def \n",
    "    \n",
    "stack1=Stack()\n"
   ]
  }
 ],
 "metadata": {
  "kernelspec": {
   "display_name": "Python 3.10.8 64-bit (microsoft store)",
   "language": "python",
   "name": "python3"
  },
  "language_info": {
   "codemirror_mode": {
    "name": "ipython",
    "version": 3
   },
   "file_extension": ".py",
   "mimetype": "text/x-python",
   "name": "python",
   "nbconvert_exporter": "python",
   "pygments_lexer": "ipython3",
   "version": "3.10.8"
  },
  "orig_nbformat": 4,
  "vscode": {
   "interpreter": {
    "hash": "efb25ee08ad69dead2ab5496ee0c8d86b1adbbae397278509c1aab5e90353b65"
   }
  }
 },
 "nbformat": 4,
 "nbformat_minor": 2
}
