{
 "cells": [
  {
   "cell_type": "code",
   "execution_count": null,
   "metadata": {},
   "outputs": [],
   "source": [
    "class Node:\n",
    "    def __init__(self,value):\n",
    "        self.left=None\n",
    "        self.data=value\n",
    "        self.right=None\n",
    "\n",
    "class Tree:\n",
    "    def __init__(self,data):\n",
    "        root=(Node(data))\n",
    "    "
   ]
  }
 ],
 "metadata": {
  "kernelspec": {
   "display_name": "Python 3",
   "language": "python",
   "name": "python3"
  },
  "language_info": {
   "name": "python",
   "version": "3.10.0 (tags/v3.10.0:b494f59, Oct  4 2021, 19:00:18) [MSC v.1929 64 bit (AMD64)]"
  },
  "orig_nbformat": 4,
  "vscode": {
   "interpreter": {
    "hash": "7b5e05e164c6b439dd3c4501df70cf6bc5c69ac9ed6addc03a284dbac8ac88c5"
   }
  }
 },
 "nbformat": 4,
 "nbformat_minor": 2
}
